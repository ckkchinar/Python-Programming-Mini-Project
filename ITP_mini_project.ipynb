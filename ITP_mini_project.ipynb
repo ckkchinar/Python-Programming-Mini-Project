{
 "cells": [
  {
   "cell_type": "markdown",
   "metadata": {},
   "source": [
    "# <center>PGP Data Science Engineering</center>\n",
    "## <center>Introduction to Programming – Mini Project:</center>\n"
   ]
  },
  {
   "cell_type": "markdown",
   "metadata": {},
   "source": [
    "### Problem 1:\n",
    "\n",
    "1. Write a program to calculate area of shapes. Your program should be capable of calculating the area of a square, rectangle, triangle and a circle. The user should be presented with options to select the shape. Based on which shape is chosed by the user, the program should ask for the appropriate input and print the resulting area on the screen.\n",
    "\n",
    "When the program is run, the screen should display something like this:\n",
    "\n",
    "**Which shape would you like to calculate the area for? Please enter the option number-**<br>\n",
    "**1. Square**<br>\n",
    "**2. Rectangle**<br>\n",
    "**3. Triangle**<br>\n",
    "**4. Circle**<br>\n",
    "**Enter Option: _**\n",
    "\n",
    "Say the user enters the option 1.\n",
    "\n",
    "**Please enter the length of a side: _**\n",
    "\n",
    "If the user enters a value of 5. The output should be:\n",
    "\n",
    "**The area of the square is 25**\n",
    "\n",
    "This program should indicate that the input is invalid if the user enters a character instead of a number as input. For instance if the user enters a value of ‘a’ instead of 5 in the previous example the program should prompt:\n",
    "\n",
    "**Invalid input, please enter a number: _**\n"
   ]
  },
  {
   "cell_type": "code",
   "execution_count": 30,
   "metadata": {},
   "outputs": [
    {
     "name": "stdout",
     "output_type": "stream",
     "text": [
      "Which shape would you like to calculate the area for? Please enter the option number-\n",
      "1. Square\n",
      "2. Rectangle\n",
      "3. Triangle\n",
      "4. Circle\n",
      "Enter Option: _3\n",
      "Please enter the height of triangle: 5\n",
      "Please enter the base of triangle: 5\n",
      "The area of the triangle is:  12.5\n"
     ]
    }
   ],
   "source": [
    "import math\n",
    "primary_inp=int(input('''Which shape would you like to calculate the area for? Please enter the option number-\n",
    "1. Square\n",
    "2. Rectangle\n",
    "3. Triangle\n",
    "4. Circle\n",
    "Enter Option: _'''))\n",
    "if primary_inp==1:\n",
    "    side_square=input(\"Please enter the length of a side: \")\n",
    "    if side_square.isdigit():\n",
    "        side_square=int(side_square)\n",
    "        area_square=side_square*side_square\n",
    "        print(\"The area of the square is: \",area_square)\n",
    "    else:\n",
    "        print(\"Invalid input, please enter a number:\")\n",
    "elif primary_inp==2:\n",
    "    length_rec=input(\"Please enter the length of rectangle: \")\n",
    "    breadth_rec=input(\"Please enter the breadth of rectangle: \")\n",
    "    if length_rec.isdigit() and breadth_rec.isdigit():\n",
    "        length_rec=int(length_rec)\n",
    "        breadth_rec=int(breadth_rec)\n",
    "        area_rec=length_rec*breadth_rec\n",
    "        print(\"The area of the rectangle is: \",area_rec)\n",
    "    else:\n",
    "         print(\"Invalid input, please enter a number for both length and breadth:\")\n",
    "elif primary_inp==3:\n",
    "    height_triangle=input(\"Please enter the height of triangle: \")\n",
    "    base_triangle=input(\"Please enter the base of triangle: \")\n",
    "    if height_triangle.isdigit() and base_triangle.isdigit():\n",
    "        height_triangle=int(height_triangle)\n",
    "        base_triangle=int(base_triangle)\n",
    "        area_triangle=height_triangle*base_triangle*0.5\n",
    "        print(\"The area of the triangle is: \",area_triangle)\n",
    "    else:\n",
    "         print(\"Invalid input, please enter a number for both length and breadth:\")\n",
    "elif primary_inp==4:\n",
    "    rad_circle=input(\"Please enter the radius of a circle: \")\n",
    "    if rad_circle.isdigit():\n",
    "        rad_circle=int(rad_circle)\n",
    "        area_circle=math.pi*rad_circle*rad_circle\n",
    "        print(\"The area of the circle is: \",area_circle)\n",
    "    else:\n",
    "        print(\"Invalid input, please enter a number:\")\n",
    "else:\n",
    "    print(\"Please enter a number from the choices mentioned:\")"
   ]
  },
  {
   "cell_type": "markdown",
   "metadata": {},
   "source": [
    "### Problem 2:\n",
    "\n",
    "Create and encrypter in python based on the ceaser cipher. It is a substitution cipher where each character of the original text is shifted a certain number characters in the alphabet. Write a function that would require 2 arguments – the input text to be encrypted and a key. For eg: Given the input text ‘hello’ and the key 3, the resulting encryted text would be ‘khoor’. Here you can see that every character in the string hello is shifted by 3 characters. ‘h’ has shifted to ‘k’, ‘e’ has shifted to ‘h’ and so on. If a key of 5 were used, the resulting string would be ‘mjqqt’. This function should be capable of ignoring any characters which are not alphabets. Th2 character ‘z’ entered b\n",
    "y the user for a key of 3 would result in ‘c’.\n",
    "\n",
    "Usage:<br>\n",
    "**encrypt(‘hello world!’, 3)**<br>\n",
    "**‘khoor zruog!’**\n",
    "\n",
    "Similarly create decrypter which can decode the encryted text when provided the input text and key\n",
    "\n",
    "Usage:<br>\n",
    "**decrypt(‘khoor zruog!’, 3)**<br>\n",
    "**‘hello world!’**\n",
    "\n",
    "For the sake of simplicity you can assume that input solely consists of lowercase alphabets, spaces and punctuation symbols. Numbers in the input text would also be ignored similar to symbols."
   ]
  },
  {
   "cell_type": "code",
   "execution_count": 31,
   "metadata": {},
   "outputs": [
    {
     "name": "stdout",
     "output_type": "stream",
     "text": [
      "khoor,zruog!!!\n",
      "hello;world!\n"
     ]
    }
   ],
   "source": [
    "import string\n",
    "def encrypt(text,key):\n",
    "    l=string.ascii_lowercase\n",
    "    cipher=\"\"\n",
    "    for char in text:\n",
    "        if char in l:\n",
    "            cipher+=l[(l.index(char)+key)%26]\n",
    "        elif char==\"\":\n",
    "            cipher+=\"\"\n",
    "        else:\n",
    "            cipher+=char\n",
    "        \n",
    "    return cipher\n",
    "def decrypt(cipher,key):\n",
    "    l=string.ascii_lowercase\n",
    "    org_text=\"\"\n",
    "    for char in cipher:\n",
    "        if char in l:\n",
    "            org_text+=l[(l.index(char)-key)%26]\n",
    "        elif char==\"\":\n",
    "            org_text+=\"\"\n",
    "        else:\n",
    "            org_text+=char\n",
    "    return org_text\n",
    "    \n",
    "print(encrypt(\"hello,world!!!\",3))\n",
    "print(decrypt(\"khoor;zruog!\",3))\n",
    "\n",
    "            "
   ]
  }
 ],
 "metadata": {
  "kernelspec": {
   "display_name": "Python 3",
   "language": "python",
   "name": "python3"
  },
  "language_info": {
   "codemirror_mode": {
    "name": "ipython",
    "version": 3
   },
   "file_extension": ".py",
   "mimetype": "text/x-python",
   "name": "python",
   "nbconvert_exporter": "python",
   "pygments_lexer": "ipython3",
   "version": "3.7.4"
  }
 },
 "nbformat": 4,
 "nbformat_minor": 2
}
